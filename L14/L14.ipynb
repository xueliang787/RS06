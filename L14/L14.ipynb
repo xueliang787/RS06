{
 "cells": [
  {
   "cell_type": "markdown",
   "metadata": {},
   "source": [
    "## Thinking1 什么是Graph Embedding，都有哪些算法模型\n"
   ]
  },
  {
   "cell_type": "markdown",
   "metadata": {},
   "source": [
    "##### Graph Embedding是一种Embedding降维技术，可以有效的挖掘图网络中的节点特征表示。是推荐系统、计算广告领域中的热点模型。"
   ]
  },
  {
   "cell_type": "markdown",
   "metadata": {},
   "source": [
    "##### \n",
    "\n",
    "factorization methods （图因式分解机）\n",
    "random walk techniques（随机游走）\n",
    "deep learning（深度学习）\n"
   ]
  },
  {
   "cell_type": "markdown",
   "metadata": {},
   "source": [
    "## Thinking2 如何使用Graph Embedding在推荐系统，比如NetFlix 电影推荐，请说明简要的思路"
   ]
  },
  {
   "cell_type": "markdown",
   "metadata": {},
   "source": [
    "##### 可以构建两种关系图谱\n",
    "\n",
    "一： 用户与用户之间如果有看过相同的电影，则用户与用户之间有边，且权值为共同看过电影的数量，构建一个用户的关系图谱。这时候就可以用Graph embedding处理。用户之间相似，则在图中相邻的越近。可以根据相似的用户进行推荐。\n",
    "\n",
    "二：类似的，电影与电影之间也可以构建关系图谱，表示电影之间的关系。给看过某一个电影的用户推荐相似的电影。"
   ]
  },
  {
   "cell_type": "markdown",
   "metadata": {},
   "source": [
    "## Thinking3 在交通流量预测中，如何使用Graph Embedding，请说明简要的思路"
   ]
  },
  {
   "cell_type": "markdown",
   "metadata": {},
   "source": [
    "##### \n",
    "\n",
    "将路网视为拓扑图,其中道路上的交通流量作为边的特征,利用图论中线图转换的方法,将路网拓扑转换为路邻接拓扑,道路上的交通流量变为节点信息特征,然后将路邻接拓扑矩阵与节点特征矩阵送入GCN做相应处理就可以了。"
   ]
  },
  {
   "cell_type": "markdown",
   "metadata": {},
   "source": [
    "## Thinking4 在文本分类中，如何使用Graph Embedding，请说明简要的思路"
   ]
  },
  {
   "cell_type": "markdown",
   "metadata": {},
   "source": [
    "##### 基于词共现和文档词关系为一个语料建立一个单独的文本图。以词和文档作为顶点，建立词与词的边以及文档与词的边。然后再用GCN处理即可。"
   ]
  },
  {
   "cell_type": "markdown",
   "metadata": {},
   "source": [
    "## Action1"
   ]
  },
  {
   "cell_type": "markdown",
   "metadata": {},
   "source": [
    "##### dolphins.ipynb"
   ]
  }
 ],
 "metadata": {
  "kernelspec": {
   "display_name": "Python 3",
   "language": "python",
   "name": "python3"
  },
  "language_info": {
   "codemirror_mode": {
    "name": "ipython",
    "version": 3
   },
   "file_extension": ".py",
   "mimetype": "text/x-python",
   "name": "python",
   "nbconvert_exporter": "python",
   "pygments_lexer": "ipython3",
   "version": "3.7.7"
  }
 },
 "nbformat": 4,
 "nbformat_minor": 4
}
