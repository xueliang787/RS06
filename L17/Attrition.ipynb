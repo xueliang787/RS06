{
 "cells": [
  {
   "cell_type": "code",
   "execution_count": 13,
   "metadata": {},
   "outputs": [],
   "source": [
    "import pandas as pd\n",
    "import numpy as np\n",
    "import matplotlib.pyplot as plt\n",
    "from sklearn.feature_extraction import DictVectorizer"
   ]
  },
  {
   "cell_type": "code",
   "execution_count": 14,
   "metadata": {},
   "outputs": [],
   "source": [
    "train = pd.read_csv('train.csv',index_col=0)\n",
    "test=pd.read_csv('test.csv',index_col=0)"
   ]
  },
  {
   "cell_type": "code",
   "execution_count": 15,
   "metadata": {},
   "outputs": [
    {
     "name": "stdout",
     "output_type": "stream",
     "text": [
      "['Age', 'BusinessTravel=Non-Travel', 'BusinessTravel=Travel_Frequently', 'BusinessTravel=Travel_Rarely', 'Department=Human Resources', 'Department=Research & Development', 'Department=Sales', 'Education', 'EducationField=Human Resources', 'EducationField=Life Sciences', 'EducationField=Marketing', 'EducationField=Medical', 'EducationField=Other', 'EducationField=Technical Degree', 'Gender=Female', 'Gender=Male', 'JobRole=Healthcare Representative', 'JobRole=Human Resources', 'JobRole=Laboratory Technician', 'JobRole=Manager', 'JobRole=Manufacturing Director', 'JobRole=Research Director', 'JobRole=Research Scientist', 'JobRole=Sales Executive', 'JobRole=Sales Representative', 'MaritalStatus=Divorced', 'MaritalStatus=Married', 'MaritalStatus=Single', 'Over18=Y', 'OverTime=No', 'OverTime=Yes']\n",
      "[ -2.54254813 -67.46259087  44.74618792   8.57858748 -13.68611947\n",
      " -20.41060892  19.95891291  -4.09008437  81.91535102 -41.72876068\n",
      "   6.47115994 -55.20577847 -45.42518508  39.83539779 -23.69553676\n",
      "   9.55772128 -16.6752286   20.18698342 100.         -48.23515498\n",
      " -79.59379293 -73.46773766  11.06508749   1.0988434   71.48318438\n",
      " -58.89940926 -19.56469625  64.32629004 -14.13781547 -78.73538012\n",
      "  64.59756465]\n",
      "-2.542548129544509\n",
      "9.557721283172748\n"
     ]
    },
    {
     "name": "stderr",
     "output_type": "stream",
     "text": [
      "[Parallel(n_jobs=1)]: Using backend SequentialBackend with 1 concurrent workers.\n",
      "D:\\install_path\\Anaconda\\lib\\site-packages\\sklearn\\linear_model\\_logistic.py:940: ConvergenceWarning: lbfgs failed to converge (status=1):\n",
      "STOP: TOTAL NO. of ITERATIONS REACHED LIMIT.\n",
      "\n",
      "Increase the number of iterations (max_iter) or scale the data as shown in:\n",
      "    https://scikit-learn.org/stable/modules/preprocessing.html\n",
      "Please also refer to the documentation for alternative solver options:\n",
      "    https://scikit-learn.org/stable/modules/linear_model.html#logistic-regression\n",
      "  extra_warning_msg=_LOGISTIC_SOLVER_CONVERGENCE_MSG)\n",
      "[Parallel(n_jobs=1)]: Done   1 out of   1 | elapsed:    0.0s finished\n"
     ]
    },
    {
     "data": {
      "image/png": "[encoded data removed]",
      "text/plain": [
       "<Figure size 432x288 with 1 Axes>"
      ]
     },
     "metadata": {
      "needs_background": "light"
     },
     "output_type": "display_data"
    }
   ],
   "source": [
    "# 处理Attrition字段\n",
    "train['Attrition']=train['Attrition'].map(lambda x:1 if x=='Yes' else 0)\n",
    "from sklearn.preprocessing import LabelEncoder\n",
    "\n",
    "# 去掉没用的列 员工号码，标准工时（=80）\n",
    "train = train.drop(['EmployeeNumber', 'StandardHours'], axis=1)\n",
    "test = test.drop(['EmployeeNumber', 'StandardHours'], axis=1)\n",
    "\n",
    "# 对于分类特征进行特征值编码\n",
    "attr=['Age','BusinessTravel','Department','Education','EducationField','Gender','JobRole','MaritalStatus','Over18','OverTime']\n",
    "\n",
    "\"\"\"\n",
    "# 采用label encoder\n",
    "lbe_list=[]\n",
    "for feature in attr:\n",
    "    lbe=LabelEncoder()\n",
    "    train[feature]=lbe.fit_transform(train[feature])\n",
    "    test[feature]=lbe.transform(test[feature])\n",
    "    lbe_list.append(lbe)\n",
    "#print(train)\n",
    "\"\"\"\n",
    "\n",
    "from sklearn.linear_model.logistic import LogisticRegression\n",
    "from sklearn.model_selection import train_test_split\n",
    "from sklearn import metrics\n",
    "\n",
    "X_train, X_valid, y_train, y_valid = train_test_split(train.drop('Attrition',axis=1), train['Attrition'], test_size=0.2, random_state=42)\n",
    "\n",
    "train_features = X_train[attr]\n",
    "# 特征向量化，不产生稀疏矩阵\n",
    "dvec=DictVectorizer(sparse=True)\n",
    "train_features=dvec.fit_transform(train_features.to_dict(orient='record'))\n",
    "print(dvec.feature_names_)\n",
    "\n",
    "\n",
    "def show_feature_importance(feature_list, feature_importance):\n",
    "\t# 设定阈值\n",
    "\tfi_threshold = 20\n",
    "\t# 重要特征的下标\n",
    "\timportant_idx = np.where(feature_importance > fi_threshold)[0]\n",
    "\t# 特征名称\n",
    "\timportant_features = [feature_list[i] for i in important_idx]\n",
    "\t# 重要特征\n",
    "\tsorted_idx = np.argsort(feature_importance[important_idx])[::-1]\n",
    "\t# 可视化\n",
    "\tpos = np.arange(sorted_idx.shape[0]) + 0.5\n",
    "\tplt.subplot(1, 2, 2)\n",
    "\tplt.title('Feature Importance')\n",
    "\tplt.barh(pos, feature_importance[important_idx][sorted_idx[::-1]], color='r',align='center')\n",
    "\tplt.yticks(pos, [important_features[i] for i in sorted_idx[::-1]])\n",
    "\tplt.xlabel('Relative Importance')\n",
    "\tplt.draw()\n",
    "\tplt.show()\n",
    "\n",
    "# 采用LR模型\n",
    "model = LogisticRegression(max_iter=100, verbose=True, random_state=33, tol=1e-4)\n",
    "model.fit(train_features, y_train)\n",
    "\n",
    "# 获取特征重要性\n",
    "feature_importance = coef = model.coef_[0]\n",
    "feature_importance = 100.0 * (feature_importance / feature_importance.max())\n",
    "#feature_importance = -100.0 * (feature_importance / feature_importance.max())\n",
    "print(feature_importance)\n",
    "print(feature_importance[0])\n",
    "print(feature_importance[15])\n",
    "# 重要特征可视化\n",
    "show_feature_importance(dvec.feature_names_, feature_importance)\n"
   ]
  }
 ],
 "metadata": {
  "kernelspec": {
   "display_name": "Python 3",
   "language": "python",
   "name": "python3"
  },
  "language_info": {
   "codemirror_mode": {
    "name": "ipython",
    "version": 3
   },
   "file_extension": ".py",
   "mimetype": "text/x-python",
   "name": "python",
   "nbconvert_exporter": "python",
   "pygments_lexer": "ipython3",
   "version": "3.7.4"
  }
 },
 "nbformat": 4,
 "nbformat_minor": 4
}
