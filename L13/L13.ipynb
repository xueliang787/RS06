{
 "cells": [
  {
   "cell_type": "markdown",
   "metadata": {},
   "source": [
    "# Thinking1 当我们思考数据源的时候，都有哪些维度，如果你想要使用爬虫抓取数据，都有哪些工具\n"
   ]
  },
  {
   "cell_type": "markdown",
   "metadata": {},
   "source": [
    "##### 数据源的维度:\n",
    "1.开放数据源。\n",
    "2.爬虫抓取。\n",
    "3.传感器。\n",
    "4.日志采集。"
   ]
  },
  {
   "cell_type": "markdown",
   "metadata": {},
   "source": [
    "##### 爬虫工具：\n",
    "1.火车采集器。\n",
    "2.搜集客。\n",
    "3.八爪鱼。\n",
    "等等。"
   ]
  },
  {
   "cell_type": "markdown",
   "metadata": {},
   "source": [
    "# Thinking2 今天讲解了时间序列预测的两种方式，实际上在数据库内建时间属性后，可以产生时序数据库，请思考什么是时序数据库？为什么时间序列数据成为增长最快的数据类型之一（请思考并分享到班级微信群中）\n"
   ]
  },
  {
   "cell_type": "markdown",
   "metadata": {},
   "source": [
    "##### 时序数据库\n",
    "时序数据库就是存放时序数据的数据库，并且需要支持时序数据的快速写入、持久化、多纬度的聚合查询等基本功能。而时序数据是基于时间的一系列的数据。在有时间的坐标中将这些数据点连成线，往过去看可以做成多纬度报表，揭示其趋势性、规律性、异常性；往未来看可以做大数据分析，机器学习，实现预测和预警。对比传统数据库仅仅记录了数据的当前值，时序数据库则记录了所有的历史数据。同时时序数据的查询也总是会带上时间作为过滤条件。\n",
    "时序数据库相对于传统数据库解决了电力行业、化工行业等各类型实时监测、检查与分析设备所采集、产生的数据，这些工业数据的典型特点是：产生频率快（每一个监测点一秒钟内可产生多条数据）、严重依赖于采集时间（每一条数据均要求对应唯一的时间）、测点多信息量大（常规的实时监测系统均有成千上万的监测点，监测点每秒钟都产生数据，每天产生几十GB的数据量）。关系型数据库无法满足对时间序列数据的有效存储与处理。因此产生了时序数据库。"
   ]
  },
  {
   "cell_type": "markdown",
   "metadata": {},
   "source": [
    "##### 增长最快的原因\n",
    "时间序列数据和物联网结合的比较紧密。比如说百度无人车在运行时需要监控各种状态，包括坐标，速度，方向，温度，湿度等等，并且需要把每时每刻监控的数据记录下来，用来做大数据分析，这样每辆车每天就会采集将近8T的数据。比如说电力行业实时监测、检查与分析设备所采集、产生的数据。这些数据的典型特点是：产生频率快（每一个监测点一秒钟内可产生多条数据）、严重依赖于采集时间（每一条数据均要求对应唯一的时间）、测点多信息量大（常规的实时监测系统均有成千上万的监测点，监测点每秒钟都产生数据，每天产生几十GB的数据量）。因此时间序列数据增长的较快。"
   ]
  },
  {
   "cell_type": "markdown",
   "metadata": {},
   "source": [
    "# Thinking3 \"开源是当前重要的Trend，我们使用的statsmodels.tsa，tensorflow/keras都是开源工具\n",
    "1）你都知道有哪些和AI相关的开源工具？\n",
    "2）阿里，微软，百度 都有哪些和AI相关的开源工具（包括LightGBM）\n",
    "3）了解和使用这些工具，对于我们有哪些价值？\"\n"
   ]
  },
  {
   "cell_type": "markdown",
   "metadata": {},
   "source": [
    "##### AI相关的开源工具\n",
    "1.Apache SystemML。SystemML是IBM创建的机器学习技术，已经达到了Apache Software Foundation的顶级项目状态之一，它是一个灵活，可扩展的机器学习系统。\n",
    "\n",
    "2.OpenNN。一个用C ++编写的开源类库，它实现了神经网络。\n",
    "\n",
    "3.Neuroph。用Java编写的面向对象的神经网络框架。\n",
    "\n",
    "4.Deeplearning4j。为Java和Scala编写的第一个商业级，开源，分布式深度学习库。\n",
    "\n",
    "阿里：新一代人机对话模型ESIM。新一代语音识别模型DFSMN。\n",
    "\n",
    "微软：人工智能框架CNTK。LightGBM：数据竞赛利器。LightLDA：超大规模主体模型训练世界纪录保持者。LightRNN：大规模文本模型训练。\n",
    "\n",
    "百度：图像分割模型库PaddleSeg。深度学习平台 PaddlePaddle。"
   ]
  },
  {
   "cell_type": "markdown",
   "metadata": {},
   "source": [
    "##### 价值：\n",
    "\n",
    "理解该工具提出的业务场景，解决实际场景中的一系列问题；可以跟紧技术发展方向，了解大厂发展的动力；在个人的理解上，可以提出自己的见解，有助于不断推动技术发展。"
   ]
  },
  {
   "cell_type": "markdown",
   "metadata": {},
   "source": [
    "### Action \"房价预测：\n",
    "全国各城区房价走势，及未来3个月房价预测\n",
    "1）基础版：使用开放数据集进行预测\n",
    "说明使用的预测模型，可视化结果\n",
    "https://github.com/shuijingoj/creprice_HousePriceData\n",
    "2）升级版：自己抓取数据，可以采用抓取工具，或Python爬虫（Selenium，scrapy，Puppeteer）\n",
    "3）加强版： 前端可视化界面，比如flask\n",
    "分组完成（没有找到组的，找班主任划分）\n",
    "鼓励交流，数据处理 or 模型使用（助教）\"\n"
   ]
  },
  {
   "cell_type": "markdown",
   "metadata": {},
   "source": [
    "##### 使用已有数据预测，详情请见ARMA.ipynb"
   ]
  }
 ],
 "metadata": {
  "kernelspec": {
   "display_name": "Python 3",
   "language": "python",
   "name": "python3"
  },
  "language_info": {
   "codemirror_mode": {
    "name": "ipython",
    "version": 3
   },
   "file_extension": ".py",
   "mimetype": "text/x-python",
   "name": "python",
   "nbconvert_exporter": "python",
   "pygments_lexer": "ipython3",
   "version": "3.7.4"
  }
 },
 "nbformat": 4,
 "nbformat_minor": 4
}
